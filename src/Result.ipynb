{
 "cells": [
  {
   "cell_type": "markdown",
   "metadata": {},
   "source": [
    "## Result details "
   ]
  },
  {
   "cell_type": "markdown",
   "metadata": {},
   "source": [
    "At first load tensorboard"
   ]
  },
  {
   "cell_type": "code",
   "execution_count": 2,
   "metadata": {},
   "outputs": [],
   "source": [
    "%load_ext tensorboard"
   ]
  },
  {
   "cell_type": "raw",
   "metadata": {},
   "source": [
    "All the logs"
   ]
  },
  {
   "cell_type": "code",
   "execution_count": 4,
   "metadata": {
    "scrolled": false
   },
   "outputs": [
    {
     "data": {
      "text/plain": [
       "ERROR: Failed to launch TensorBoard (exited with 1).\n",
       "Contents of stderr:\n",
       "Traceback (most recent call last):\n",
       "  File \"C:\\Users\\User\\AppData\\Local\\Programs\\Python\\Python37\\lib\\runpy.py\", line 193, in _run_module_as_main\n",
       "    \"__main__\", mod_spec)\n",
       "  File \"C:\\Users\\User\\AppData\\Local\\Programs\\Python\\Python37\\lib\\runpy.py\", line 85, in _run_code\n",
       "    exec(code, run_globals)\n",
       "  File \"c:\\users\\user\\pycharmprojects\\t-dev-810\\venv3.7\\scripts\\tensorboard.exe\\__main__.py\", line 4, in <module>\n",
       "  File \"c:\\users\\user\\pycharmprojects\\t-dev-810\\venv3.7\\lib\\site-packages\\tensorboard\\main.py\", line 40, in <module>\n",
       "    from tensorboard import default\n",
       "  File \"c:\\users\\user\\pycharmprojects\\t-dev-810\\venv3.7\\lib\\site-packages\\tensorboard\\default.py\", line 39, in <module>\n",
       "    from tensorboard.plugins.beholder import beholder_plugin_loader\n",
       "  File \"c:\\users\\user\\pycharmprojects\\t-dev-810\\venv3.7\\lib\\site-packages\\tensorboard\\plugins\\beholder\\__init__.py\", line 22, in <module>\n",
       "    from tensorboard.plugins.beholder.beholder import Beholder\n",
       "  File \"c:\\users\\user\\pycharmprojects\\t-dev-810\\venv3.7\\lib\\site-packages\\tensorboard\\plugins\\beholder\\beholder.py\", line 199, in <module>\n",
       "    class BeholderHook(tf.estimator.SessionRunHook):\n",
       "AttributeError: module 'tensorflow' has no attribute 'estimator'"
      ]
     },
     "metadata": {},
     "output_type": "display_data"
    }
   ],
   "source": [
    "%tensorboard --logdir logs\\fit"
   ]
  },
  {
   "cell_type": "code",
   "execution_count": 18,
   "metadata": {},
   "outputs": [
    {
     "name": "stdout",
     "output_type": "stream",
     "text": [
      "The tensorboard extension is already loaded. To reload it, use:\n",
      "  %reload_ext tensorboard\n"
     ]
    }
   ],
   "source": []
  },
  {
   "cell_type": "code",
   "execution_count": null,
   "metadata": {},
   "outputs": [],
   "source": []
  }
 ],
 "metadata": {
  "kernelspec": {
   "display_name": "Python 3",
   "language": "python",
   "name": "python3"
  },
  "language_info": {
   "codemirror_mode": {
    "name": "ipython",
    "version": 3
   },
   "file_extension": ".py",
   "mimetype": "text/x-python",
   "name": "python",
   "nbconvert_exporter": "python",
   "pygments_lexer": "ipython3",
   "version": "3.7.7"
  }
 },
 "nbformat": 4,
 "nbformat_minor": 4
}
